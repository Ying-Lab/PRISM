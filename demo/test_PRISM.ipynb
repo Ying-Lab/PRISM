{
 "cells": [
  {
   "cell_type": "code",
   "execution_count": null,
   "metadata": {},
   "outputs": [],
   "source": [
    "\n",
    "import prism\n",
    "from prism import train"
   ]
  },
  {
   "cell_type": "code",
   "execution_count": 5,
   "metadata": {},
   "outputs": [],
   "source": [
    "arg_path = \"./param.yaml\"\n",
    "Expression_data_path = \"../demo_data/A549/ExpressionData.csv\"\n",
    "Genescore_data_path = \"../demo_data/A549/GeneScoreData.csv\"\n",
    "label_path = \"../demo_data/A549/refNetwork.csv\""
   ]
  },
  {
   "cell_type": "code",
   "execution_count": 6,
   "metadata": {},
   "outputs": [
    {
     "name": "stdout",
     "output_type": "stream",
     "text": [
      "On validation epoch 100: RNA recon loss 13886.046875, GRN recon loss 8938.08984375\n",
      "Validation Accuracy: 0.9902761578559875\n",
      "On validation epoch 200: RNA recon loss 10658.625, GRN recon loss 8273.751953125\n",
      "Validation Accuracy: 0.9902761578559875\n",
      "On test set, Accuracy is 0.9902761578559875, AUROC is 0.8248350203907557, AUPRC is 0.03493490142258214.\n"
     ]
    }
   ],
   "source": [
    "train.train(arg_path, Expression_data_path, Genescore_data_path, label_path)"
   ]
  }
 ],
 "metadata": {
  "kernelspec": {
   "display_name": "GRACE",
   "language": "python",
   "name": "python3"
  },
  "language_info": {
   "codemirror_mode": {
    "name": "ipython",
    "version": 3
   },
   "file_extension": ".py",
   "mimetype": "text/x-python",
   "name": "python",
   "nbconvert_exporter": "python",
   "pygments_lexer": "ipython3",
   "version": "3.8.19"
  }
 },
 "nbformat": 4,
 "nbformat_minor": 2
}
