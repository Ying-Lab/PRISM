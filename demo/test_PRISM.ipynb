{
 "cells": [
  {
   "cell_type": "markdown",
   "metadata": {},
   "source": [
    "# Import package"
   ]
  },
  {
   "cell_type": "code",
   "execution_count": null,
   "metadata": {},
   "outputs": [
    {
     "name": "stderr",
     "output_type": "stream",
     "text": [
      "/opt/conda/envs/PRISM/lib/python3.8/site-packages/tqdm/auto.py:21: TqdmWarning: IProgress not found. Please update jupyter and ipywidgets. See https://ipywidgets.readthedocs.io/en/stable/user_install.html\n",
      "  from .autonotebook import tqdm as notebook_tqdm\n"
     ]
    },
    {
     "name": "stdout",
     "output_type": "stream",
     "text": [
      "1.2.0\n"
     ]
    }
   ],
   "source": [
    "import os\n",
    "import torch\n",
    "import prism\n",
    "from prism import train\n",
    "print(prism.__version__)\n",
    "os.environ[\"CUDA_VISIBLE_DEVICES\"] = \"0\"  \n",
    "torch.cuda.set_device(0) "
   ]
  },
  {
   "cell_type": "markdown",
   "metadata": {},
   "source": [
    "# Set parameters and data path"
   ]
  },
  {
   "cell_type": "code",
   "execution_count": 2,
   "metadata": {},
   "outputs": [],
   "source": [
    "arg_path = \"./param.yaml\"\n",
    "Expression_data_path = \"../demo_data/A549/ExpressionData.csv\"\n",
    "Genescore_data_path = \"../demo_data/A549/GeneScoreData.csv\"\n",
    "label_path = \"../demo_data/A549/refNetwork.csv\""
   ]
  },
  {
   "cell_type": "markdown",
   "metadata": {},
   "source": [
    "## import args and show"
   ]
  },
  {
   "cell_type": "code",
   "execution_count": 3,
   "metadata": {},
   "outputs": [
    {
     "name": "stdout",
     "output_type": "stream",
     "text": [
      "{'flag': False, 'cuda': True, 'seed': 2222, 'epoch': 2000, 'lr': 0.0003, 'weight_decay': 0.001, 'decayrate': 0.97, 'hidden': 256, 'dropout': 0.1, 'ns': 64, 'alpha': 0.35, 'pairing': True, 'device': device(type='cuda', index=0)}\n"
     ]
    }
   ],
   "source": [
    "args = train.ImportArgs(arg_path)\n",
    "print(args)"
   ]
  },
  {
   "cell_type": "markdown",
   "metadata": {},
   "source": [
    "# The implementation of PRISM"
   ]
  },
  {
   "cell_type": "markdown",
   "metadata": {},
   "source": [
    "## For validation with baselines (split GRN into training and testing)"
   ]
  },
  {
   "cell_type": "code",
   "execution_count": 4,
   "metadata": {},
   "outputs": [],
   "source": [
    "## Instance\n",
    "A549_prism = train.Trainer(args, Expression_data_path, Genescore_data_path, label_path)"
   ]
  },
  {
   "cell_type": "code",
   "execution_count": 5,
   "metadata": {},
   "outputs": [
    {
     "name": "stdout",
     "output_type": "stream",
     "text": [
      "On validation epoch 100: RNA recon loss 22598.9375, GRN recon loss 8678.7646484375\n",
      "Validation Accuracy: 0.9902761578559875\n",
      "On validation epoch 200: RNA recon loss 11317.5625, GRN recon loss 8396.5615234375\n",
      "Validation Accuracy: 0.9902761578559875\n",
      "On validation epoch 300: RNA recon loss 10894.375, GRN recon loss 6152.267578125\n",
      "Validation Accuracy: 0.9902244806289673\n",
      "On validation epoch 400: RNA recon loss 10476.3828125, GRN recon loss 4012.78662109375\n",
      "Validation Accuracy: 0.9896175861358643\n",
      "On validation epoch 500: RNA recon loss 10250.734375, GRN recon loss 3740.632568359375\n",
      "Validation Accuracy: 0.9903084635734558\n",
      "On validation epoch 600: RNA recon loss 10228.484375, GRN recon loss 3593.27294921875\n",
      "Validation Accuracy: 0.9902761578559875\n",
      "On validation epoch 700: RNA recon loss 10201.234375, GRN recon loss 3520.259521484375\n",
      "Validation Accuracy: 0.990502119064331\n",
      "On validation epoch 800: RNA recon loss 10192.0546875, GRN recon loss 3482.94091796875\n",
      "Validation Accuracy: 0.9907022714614868\n",
      "On validation epoch 900: RNA recon loss 10219.6875, GRN recon loss 3457.6201171875\n",
      "Validation Accuracy: 0.9905408620834351\n",
      "On validation epoch 1000: RNA recon loss 10229.0234375, GRN recon loss 3445.66845703125\n",
      "Validation Accuracy: 0.9905796051025391\n",
      "On validation epoch 1100: RNA recon loss 10216.3671875, GRN recon loss 3453.895263671875\n",
      "Validation Accuracy: 0.9905279874801636\n",
      "On validation epoch 1200: RNA recon loss 10188.4921875, GRN recon loss 3439.5830078125\n",
      "Validation Accuracy: 0.9904956817626953\n",
      "On validation epoch 1300: RNA recon loss 10193.2578125, GRN recon loss 3446.53369140625\n",
      "Validation Accuracy: 0.9907539486885071\n",
      "On validation epoch 1400: RNA recon loss 10208.9921875, GRN recon loss 3430.3779296875\n",
      "Validation Accuracy: 0.9907087683677673\n",
      "On validation epoch 1500: RNA recon loss 10241.484375, GRN recon loss 3439.2529296875\n",
      "Validation Accuracy: 0.9907603859901428\n",
      "On validation epoch 1600: RNA recon loss 10196.359375, GRN recon loss 3434.814453125\n",
      "Validation Accuracy: 0.9907022714614868\n",
      "On validation epoch 1700: RNA recon loss 10183.2890625, GRN recon loss 3419.52392578125\n",
      "Validation Accuracy: 0.9906312823295593\n",
      "On validation epoch 1800: RNA recon loss 10233.2421875, GRN recon loss 3404.7861328125\n",
      "Validation Accuracy: 0.9907410144805908\n",
      "On validation epoch 1900: RNA recon loss 10264.15625, GRN recon loss 3436.30859375\n",
      "Validation Accuracy: 0.9907281398773193\n",
      "On validation epoch 2000: RNA recon loss 10227.046875, GRN recon loss 3399.193115234375\n",
      "Validation Accuracy: 0.9906828999519348\n",
      "On test set, Accuracy is 0.9907862544059753, AUROC is 0.9891818580890267, AUPRC is 0.43122359446828284.\n"
     ]
    }
   ],
   "source": [
    "## training\n",
    "A549_prism.train()"
   ]
  },
  {
   "cell_type": "code",
   "execution_count": 6,
   "metadata": {},
   "outputs": [
    {
     "name": "stdout",
     "output_type": "stream",
     "text": [
      "Model saved at prism_model.pth\n"
     ]
    }
   ],
   "source": [
    "## Saving model\n",
    "A549_prism.save_model()"
   ]
  },
  {
   "cell_type": "code",
   "execution_count": 8,
   "metadata": {},
   "outputs": [
    {
     "name": "stdout",
     "output_type": "stream",
     "text": [
      "         Gene1      Gene2      Prob  Pred_Label\n",
      "0          SP1     TRIM47  0.275982         0.0\n",
      "1          SP1       SDC4  0.249377         0.0\n",
      "2         JUNB     ZNF768  0.289184         0.0\n",
      "3          MAX       OSR1  0.411708         0.0\n",
      "4         ELF1     MAD2L2  0.272297         0.0\n",
      "...        ...        ...       ...         ...\n",
      "154872   FEZF1     SKIDA1  0.000004         0.0\n",
      "154873   NPY1R  LINC00376  0.000011         0.0\n",
      "154874   TFPI2       DAD1  0.000007         0.0\n",
      "154875    CIB1   TMEM200B  0.000004         0.0\n",
      "154876  GALNT3   HM13-AS1  0.000010         0.0\n",
      "\n",
      "[154877 rows x 4 columns]\n"
     ]
    }
   ],
   "source": [
    "## Get the Predicted GRN\n",
    "Reconstruct_GRN = A549_prism.Get_GRN()\n",
    "print(Reconstruct_GRN)"
   ]
  },
  {
   "cell_type": "markdown",
   "metadata": {},
   "source": [
    "## For in-reality use (all prior GRNs are used to training)"
   ]
  },
  {
   "cell_type": "code",
   "execution_count": 9,
   "metadata": {},
   "outputs": [],
   "source": [
    "A549_prism = train.Trainer_allprior(args, Expression_data_path, Genescore_data_path, label_path)"
   ]
  },
  {
   "cell_type": "code",
   "execution_count": 7,
   "metadata": {},
   "outputs": [
    {
     "name": "stdout",
     "output_type": "stream",
     "text": [
      "On tranining epoch 100: RNA recon loss 11250.6796875, GRN recon loss 18970.126953125\n",
      "On tranining epoch 200: RNA recon loss 10330.5078125, GRN recon loss 3971.816650390625\n",
      "On tranining epoch 300: RNA recon loss 10162.640625, GRN recon loss 3040.315673828125\n",
      "On tranining epoch 400: RNA recon loss 10183.3125, GRN recon loss 2917.8759765625\n",
      "On tranining epoch 500: RNA recon loss 10145.5546875, GRN recon loss 2868.9375\n",
      "On tranining epoch 600: RNA recon loss 10157.8828125, GRN recon loss 2842.752685546875\n",
      "On tranining epoch 700: RNA recon loss 10177.609375, GRN recon loss 2783.949951171875\n",
      "On tranining epoch 800: RNA recon loss 10181.625, GRN recon loss 2777.13818359375\n",
      "On tranining epoch 900: RNA recon loss 10189.7890625, GRN recon loss 2732.412353515625\n",
      "On tranining epoch 1000: RNA recon loss 10194.140625, GRN recon loss 2722.75341796875\n",
      "On tranining epoch 1100: RNA recon loss 10193.8984375, GRN recon loss 2717.31494140625\n",
      "On tranining epoch 1200: RNA recon loss 10219.0546875, GRN recon loss 2700.658447265625\n",
      "On tranining epoch 1300: RNA recon loss 10204.1328125, GRN recon loss 2687.48046875\n",
      "On tranining epoch 1400: RNA recon loss 10231.1953125, GRN recon loss 2679.39013671875\n",
      "On tranining epoch 1500: RNA recon loss 10228.25, GRN recon loss 2664.9619140625\n",
      "On tranining epoch 1600: RNA recon loss 10198.421875, GRN recon loss 2674.7568359375\n",
      "On tranining epoch 1700: RNA recon loss 10223.1640625, GRN recon loss 2669.52978515625\n",
      "On tranining epoch 1800: RNA recon loss 10180.6484375, GRN recon loss 2663.03857421875\n",
      "On tranining epoch 1900: RNA recon loss 10221.59375, GRN recon loss 2660.3212890625\n",
      "On tranining epoch 2000: RNA recon loss 10210.4765625, GRN recon loss 2659.655029296875\n"
     ]
    }
   ],
   "source": [
    "A549_prism.train()"
   ]
  },
  {
   "cell_type": "code",
   "execution_count": 14,
   "metadata": {},
   "outputs": [
    {
     "name": "stdout",
     "output_type": "stream",
     "text": [
      "           Gene1    Gene2      Prob  Pred_Label\n",
      "40          PHF8    NPY1R  0.961837         1.0\n",
      "42         MYBL2     TAC4  0.710018         1.0\n",
      "97         MYOCD    TRAT1  0.973083         1.0\n",
      "107      BHLHE40    MOCS1  0.836999         1.0\n",
      "190        SMAD3   TUBB4A  0.877208         1.0\n",
      "...          ...      ...       ...         ...\n",
      "1518556      EHF    NOTUM  0.514836         1.0\n",
      "1518566    NPAS2   KCTD14  0.514870         1.0\n",
      "1518573     E2F6  ABHD17A  0.977294         1.0\n",
      "1518582   HMGXB4    DDX11  0.634113         1.0\n",
      "1518608     BRD2   MTMR11  0.969103         1.0\n",
      "\n",
      "[82952 rows x 4 columns]\n"
     ]
    }
   ],
   "source": [
    "Reconstruct_GRN = A549_prism.Get_GRN()\n",
    "print(Reconstruct_GRN[Reconstruct_GRN['Pred_Label']==1])"
   ]
  }
 ],
 "metadata": {
  "kernelspec": {
   "display_name": "PRISM",
   "language": "python",
   "name": "python3"
  },
  "language_info": {
   "codemirror_mode": {
    "name": "ipython",
    "version": 3
   },
   "file_extension": ".py",
   "mimetype": "text/x-python",
   "name": "python",
   "nbconvert_exporter": "python",
   "pygments_lexer": "ipython3",
   "version": "3.8.19"
  }
 },
 "nbformat": 4,
 "nbformat_minor": 2
}
